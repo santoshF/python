{
  "nbformat": 4,
  "nbformat_minor": 0,
  "metadata": {
    "colab": {
      "provenance": [],
      "authorship_tag": "ABX9TyPQKoSQBx7TNk0rp5LNltYy",
      "include_colab_link": true
    },
    "kernelspec": {
      "name": "python3",
      "display_name": "Python 3"
    },
    "language_info": {
      "name": "python"
    }
  },
  "cells": [
    {
      "cell_type": "markdown",
      "metadata": {
        "id": "view-in-github",
        "colab_type": "text"
      },
      "source": [
        "<a href=\"https://colab.research.google.com/github/santoshF/python/blob/master/FinanceDS.ipynb\" target=\"_parent\"><img src=\"https://colab.research.google.com/assets/colab-badge.svg\" alt=\"Open In Colab\"/></a>"
      ]
    },
    {
      "cell_type": "markdown",
      "source": [
        "# Finance Data Science"
      ],
      "metadata": {
        "id": "a3Zyr53rX_yM"
      }
    },
    {
      "cell_type": "code",
      "source": [
        "# prompt: create a dataframe using yfinance library\n",
        "\n",
        "import subprocess\n",
        "\n",
        "def is_installed(package_name):\n",
        "    try:\n",
        "        subprocess.check_call(['pip', 'show', package_name], stdout=subprocess.DEVNULL, stderr=subprocess.DEVNULL)\n",
        "        return True\n",
        "    except subprocess.CalledProcessError:\n",
        "        return False\n",
        "\n",
        "library_name = 'yfinance'\n",
        "\n",
        "if not is_installed(library_name):\n",
        "    # Run your program here\n",
        "    print(f\"{library_name} is not installed. Running the program...\")\n",
        "    # Your program code here\n",
        "else:\n",
        "    print(f\"{library_name} is already installed. Not running the program.\")\n",
        "\n",
        "import yfinance as yf\n",
        "\n"
      ],
      "metadata": {
        "id": "MG3R1V7nblqP",
        "outputId": "1e800fba-4c86-4daf-edb4-19a6fa9a78fb",
        "colab": {
          "base_uri": "https://localhost:8080/"
        }
      },
      "execution_count": 1,
      "outputs": [
        {
          "output_type": "stream",
          "name": "stdout",
          "text": [
            "yfinance is already installed. Not running the program.\n"
          ]
        },
        {
          "output_type": "stream",
          "name": "stderr",
          "text": [
            "\r[*********************100%***********************]  1 of 1 completed\n"
          ]
        }
      ]
    }
  ]
}