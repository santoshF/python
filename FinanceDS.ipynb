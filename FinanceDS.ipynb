{
  "nbformat": 4,
  "nbformat_minor": 0,
  "metadata": {
    "colab": {
      "provenance": [],
      "authorship_tag": "ABX9TyNZq8KgJuyD8Gy8KRl5vhfT",
      "include_colab_link": true
    },
    "kernelspec": {
      "name": "python3",
      "display_name": "Python 3"
    },
    "language_info": {
      "name": "python"
    }
  },
  "cells": [
    {
      "cell_type": "markdown",
      "metadata": {
        "id": "view-in-github",
        "colab_type": "text"
      },
      "source": [
        "<a href=\"https://colab.research.google.com/github/santoshF/python/blob/master/FinanceDS.ipynb\" target=\"_parent\"><img src=\"https://colab.research.google.com/assets/colab-badge.svg\" alt=\"Open In Colab\"/></a>"
      ]
    },
    {
      "cell_type": "markdown",
      "source": [
        "# Finance Data Science"
      ],
      "metadata": {
        "id": "a3Zyr53rX_yM"
      }
    },
    {
      "cell_type": "code",
      "source": [
        "# prompt: create a dataframe using yfinance library\n",
        "\n",
        "import subprocess\n",
        "\n",
        "def is_installed(package_name):\n",
        "    try:\n",
        "        subprocess.check_call(['pip', 'show', package_name], stdout=subprocess.DEVNULL, stderr=subprocess.DEVNULL)\n",
        "        return True\n",
        "    except subprocess.CalledProcessError:\n",
        "        return False\n",
        "\n",
        "library_name = 'yfinance'\n",
        "\n",
        "if not is_installed(library_name):\n",
        "    # Run your program here\n",
        "    print(f\"{library_name} is not installed. Running the program...\")\n",
        "    # Your program code here\n",
        "else:\n",
        "    print(f\"{library_name} is already installed. Not running the program.\")\n",
        "\n",
        "import yfinance as yf\n",
        "\n"
      ],
      "metadata": {
        "id": "MG3R1V7nblqP",
        "colab": {
          "base_uri": "https://localhost:8080/"
        },
        "outputId": "e0cda8c8-3220-4136-8fbf-f50abbe97bda"
      },
      "execution_count": 3,
      "outputs": [
        {
          "output_type": "stream",
          "name": "stdout",
          "text": [
            "yfinance is already installed. Not running the program.\n"
          ]
        }
      ]
    },
    {
      "cell_type": "code",
      "source": [
        "import pandas as pd\n",
        "\n",
        "etn = yf.Ticker(\"ETN\")\n",
        "# get historical market data\n",
        "hist = etn.history(period=\"1y\")\n",
        "df = pd.DataFrame(hist)\n",
        "print(df)\n"
      ],
      "metadata": {
        "id": "7S-Z-fPC5CEZ",
        "outputId": "53a1b4c7-39e7-4c25-90b8-2fe7dd42c64c",
        "colab": {
          "base_uri": "https://localhost:8080/"
        }
      },
      "execution_count": 4,
      "outputs": [
        {
          "output_type": "stream",
          "name": "stdout",
          "text": [
            "                                 Open        High         Low       Close  \\\n",
            "Date                                                                        \n",
            "2023-08-28 00:00:00-04:00  221.222546  224.656019  221.163350  223.215546   \n",
            "2023-08-29 00:00:00-04:00  222.080911  225.780779  222.080911  225.030945   \n",
            "2023-08-30 00:00:00-04:00  225.978091  227.152185  224.912542  227.004196   \n",
            "2023-08-31 00:00:00-04:00  226.925265  229.135325  226.323419  227.290314   \n",
            "2023-09-01 00:00:00-04:00  228.346019  230.852057  228.089486  230.546204   \n",
            "...                               ...         ...         ...         ...   \n",
            "2024-08-20 00:00:00-04:00  297.920013  299.640015  294.579987  296.239990   \n",
            "2024-08-21 00:00:00-04:00  296.450012  301.649994  296.170013  299.690002   \n",
            "2024-08-22 00:00:00-04:00  300.459991  303.399994  296.700012  297.690002   \n",
            "2024-08-23 00:00:00-04:00  300.000000  302.000000  297.779999  300.000000   \n",
            "2024-08-26 00:00:00-04:00  300.279999  301.750000  296.000000  296.910004   \n",
            "\n",
            "                            Volume  Dividends  Stock Splits  \n",
            "Date                                                         \n",
            "2023-08-28 00:00:00-04:00  1611300        0.0           0.0  \n",
            "2023-08-29 00:00:00-04:00  1392100        0.0           0.0  \n",
            "2023-08-30 00:00:00-04:00  1235500        0.0           0.0  \n",
            "2023-08-31 00:00:00-04:00  2040900        0.0           0.0  \n",
            "2023-09-01 00:00:00-04:00  1423100        0.0           0.0  \n",
            "...                            ...        ...           ...  \n",
            "2024-08-20 00:00:00-04:00  1432400        0.0           0.0  \n",
            "2024-08-21 00:00:00-04:00  1400600        0.0           0.0  \n",
            "2024-08-22 00:00:00-04:00  2035700        0.0           0.0  \n",
            "2024-08-23 00:00:00-04:00  1950700        0.0           0.0  \n",
            "2024-08-26 00:00:00-04:00  1579600        0.0           0.0  \n",
            "\n",
            "[251 rows x 7 columns]\n"
          ]
        }
      ]
    },
    {
      "cell_type": "code",
      "source": [],
      "metadata": {
        "id": "hyuVRiny5nPa"
      },
      "execution_count": null,
      "outputs": []
    }
  ]
}